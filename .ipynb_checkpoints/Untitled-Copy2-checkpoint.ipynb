{
 "cells": [
  {
   "cell_type": "code",
   "execution_count": 9,
   "id": "006a2551",
   "metadata": {},
   "outputs": [],
   "source": [
    "from bs4 import BeautifulSoup as bf\n",
    "import pandas as pd\n",
    "import requests\n",
    "import csv\n"
   ]
  },
  {
   "cell_type": "code",
   "execution_count": 3,
   "id": "a9c721e8",
   "metadata": {},
   "outputs": [
    {
     "ename": "NameError",
     "evalue": "name 'd' is not defined",
     "output_type": "error",
     "traceback": [
      "\u001b[0;31m---------------------------------------------------------------------------\u001b[0m",
      "\u001b[0;31mNameError\u001b[0m                                 Traceback (most recent call last)",
      "Input \u001b[0;32mIn [3]\u001b[0m, in \u001b[0;36m<cell line: 1>\u001b[0;34m()\u001b[0m\n\u001b[0;32m----> 1\u001b[0m date \u001b[38;5;241m=\u001b[39m \u001b[43md\u001b[49m\u001b[38;5;241m.\u001b[39mtable\u001b[38;5;241m.\u001b[39mfind(\u001b[38;5;124m\"\u001b[39m\u001b[38;5;124mtr\u001b[39m\u001b[38;5;124m\"\u001b[39m, \u001b[38;5;28mid\u001b[39m\u001b[38;5;241m=\u001b[39m\u001b[38;5;124m\"\u001b[39m\u001b[38;5;124mtr0\u001b[39m\u001b[38;5;124m\"\u001b[39m)\n\u001b[1;32m      2\u001b[0m date\u001b[38;5;241m.\u001b[39mspan\n",
      "\u001b[0;31mNameError\u001b[0m: name 'd' is not defined"
     ]
    }
   ],
   "source": [
    "link = requests.get('http://topjobs.lk/applicant/vacancybyfunctionalarea.jsp?FA=AGD').text\n",
    "\n",
    "soup = bf(link, 'lxml')\n",
    "\n",
    "f = open(\"jobs.csv\",\"w\", newline=\"\")\n",
    "row_1 = (\"Company_name\",\"Post\",\"Opening_date\",\"Closing_date\")\n",
    "writer = csv.writer(f)\n",
    "writer.writerow(row_1)\n",
    "\n",
    "d = soup.find('div', class_='cate-lister-view')\n",
    "date = d.table.find(\"tr\", id=\"tr0\")\n",
    "\n",
    "for num in range(0,10):\n",
    "    row_2 = (d.table.find(\"tr\", id=f\"tr{num}\").h1.text, d.table.find(\"tr\", id=f\"tr{num}\").h2.text, date.find_all('td', width=\"14%\")[0].text, date.find_all('td', width=\"14%\")[1].text)\n",
    "    writer.writerow(row_2)\n",
    "    print('company name :- ', d.table.find(\"tr\", id=f\"tr{num}\").h1.text)\n",
    "    print('Post         :- ', d.table.find(\"tr\", id=f\"tr{num}\").h2.text)\n",
    "    print('Opening date :- ', date.find_all('td', width=\"14%\")[0].text)\n",
    "    print('Closing date :- ', date.find_all('td', width=\"14%\")[1].text,\"\\n\")\n",
    "    \n",
    "f.close()\n",
    "#i.table.find('tr', id=f'tr{num}')"
   ]
  },
  {
   "cell_type": "code",
   "execution_count": null,
   "id": "545e0e9e",
   "metadata": {},
   "outputs": [],
   "source": []
  }
 ],
 "metadata": {
  "kernelspec": {
   "display_name": "Python 3 (ipykernel)",
   "language": "python",
   "name": "python3"
  },
  "language_info": {
   "codemirror_mode": {
    "name": "ipython",
    "version": 3
   },
   "file_extension": ".py",
   "mimetype": "text/x-python",
   "name": "python",
   "nbconvert_exporter": "python",
   "pygments_lexer": "ipython3",
   "version": "3.9.12"
  }
 },
 "nbformat": 4,
 "nbformat_minor": 5
}
