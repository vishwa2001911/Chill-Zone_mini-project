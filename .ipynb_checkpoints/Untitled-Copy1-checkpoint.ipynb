{
 "cells": [
  {
   "cell_type": "code",
   "execution_count": 3,
   "id": "006a2551",
   "metadata": {},
   "outputs": [
    {
     "name": "stdout",
     "output_type": "stream",
     "text": [
      "company name :-  BLUESTEPS\n",
      "Post         :-  Assistant Manager - Business Development (Export Market for Organic Food & Beverage Products) (1)\n",
      "Opening date :-   Wed Sep 21 2022\n",
      "Closing date :-   Wed Oct 05 2022 \n",
      "\n",
      "company name :-  Stannum Agro (Pvt) Ltd\n",
      "Post         :-   Resident Agri Manager \n",
      "Opening date :-   Wed Sep 21 2022\n",
      "Closing date :-   Wed Oct 05 2022 \n",
      "\n",
      "company name :-  AgStar PLC\n",
      "Post         :-  Marketing Manager - Animal Nutrition and Health \n",
      "Opening date :-   Wed Sep 21 2022\n",
      "Closing date :-   Wed Oct 05 2022 \n",
      "\n",
      "company name :-  EAP Agri Business (Pvt) Ltd\n",
      "Post         :-  Manager Operations - Agri \n",
      "Opening date :-   Wed Sep 21 2022\n",
      "Closing date :-   Wed Oct 05 2022 \n",
      "\n",
      "company name :-  Green Link\n",
      "Post         :-  Agriculture Field Officer \n",
      "Opening date :-   Wed Sep 21 2022\n",
      "Closing date :-   Wed Oct 05 2022 \n",
      "\n",
      "company name :-  Arabian Business Company (Pvt) Ltd\n",
      "Post         :-  Poultry Farm /Feed Mill Vacancies (Qatar) \n",
      "Opening date :-   Wed Sep 21 2022\n",
      "Closing date :-   Wed Oct 05 2022 \n",
      "\n",
      "company name :-  Sea & Land Aqua Suppliers (Pvt) Ltd\n",
      "Post         :-  Aquaculture Technician \n",
      "Opening date :-   Wed Sep 21 2022\n",
      "Closing date :-   Wed Oct 05 2022 \n",
      "\n",
      "company name :-  Company Name withheld\n",
      "Post         :-  Mini Hydro Power Plant In-Charge \n",
      "Opening date :-   Wed Sep 21 2022\n",
      "Closing date :-   Wed Oct 05 2022 \n",
      "\n",
      "company name :-  Nelna Group of Companies\n",
      "Post         :-  Group Manager - Quality Assurance  \n",
      "Opening date :-   Wed Sep 21 2022\n",
      "Closing date :-   Wed Oct 05 2022 \n",
      "\n",
      "company name :-  L.J.M. Peiris & Co. Pvt. Ltd\n",
      "Post         :-  Junior Executive \n",
      "Opening date :-   Wed Sep 21 2022\n",
      "Closing date :-   Wed Oct 05 2022 \n",
      "\n"
     ]
    }
   ],
   "source": [
    "from bs4 import BeautifulSoup as bf\n",
    "import pandas as pd\n",
    "import requests\n",
    "import csv\n",
    "\n",
    "link = requests.get('http://topjobs.lk/applicant/vacancybyfunctionalarea.jsp?FA=AGD').text\n",
    "\n",
    "soup = bf(link, 'lxml')\n",
    "date = d.table.find(\"tr\", id=\"tr0\")\n",
    "\n",
    "d = soup.find('div', class_='cate-lister-view')\n",
    "for num in range(0,10):\n",
    "    \n",
    "    print('company name :- ', d.table.find(\"tr\", id=f\"tr{num}\").h1.text)\n",
    "    print('Post         :- ', d.table.find(\"tr\", id=f\"tr{num}\").h2.text)\n",
    "    print('Opening date :- ', date.find_all('td', width=\"14%\")[0].text)\n",
    "    print('Closing date :- ', date.find_all('td', width=\"14%\")[1].text,\"\\n\")\n",
    "    \n",
    "    \n",
    "#i.table.find('tr', id=f'tr{num}')"
   ]
  },
  {
   "cell_type": "code",
   "execution_count": 4,
   "id": "a9c721e8",
   "metadata": {},
   "outputs": [
    {
     "data": {
      "text/plain": [
       "<span hidden=\"\" id=\"hdnJC0\">0001003822</span>"
      ]
     },
     "execution_count": 4,
     "metadata": {},
     "output_type": "execute_result"
    }
   ],
   "source": [
    "date = d.table.find(\"tr\", id=\"tr0\")\n",
    "date.span"
   ]
  },
  {
   "cell_type": "code",
   "execution_count": 166,
   "id": "664fc3a1",
   "metadata": {},
   "outputs": [
    {
     "name": "stdout",
     "output_type": "stream",
     "text": [
      "[1 2 3]\n"
     ]
    }
   ],
   "source": [
    "\n",
    "import numpy as np \n",
    "a = np.array([1,2,3]) \n",
    "print(a)\n",
    "\n"
   ]
  },
  {
   "cell_type": "code",
   "execution_count": 14,
   "id": "59adcc34",
   "metadata": {},
   "outputs": [
    {
     "name": "stderr",
     "output_type": "stream",
     "text": [
      "/tmp/ipykernel_3923/2323875227.py:2: DeprecationWarning: executable_path has been deprecated, please pass in a Service object\n",
      "  driver = Chrome(executable_path=\"/home/vishwa/Documents/my project/python/my python projects/New job finding platform/chromedriver\")\n"
     ]
    },
    {
     "ename": "AttributeError",
     "evalue": "'WebDriver' object has no attribute 'find_element_by_id'",
     "output_type": "error",
     "traceback": [
      "\u001b[0;31m---------------------------------------------------------------------------\u001b[0m",
      "\u001b[0;31mAttributeError\u001b[0m                            Traceback (most recent call last)",
      "Input \u001b[0;32mIn [14]\u001b[0m, in \u001b[0;36m<cell line: 4>\u001b[0;34m()\u001b[0m\n\u001b[1;32m      2\u001b[0m driver \u001b[38;5;241m=\u001b[39m Chrome(executable_path\u001b[38;5;241m=\u001b[39m\u001b[38;5;124m\"\u001b[39m\u001b[38;5;124m/home/vishwa/Documents/my project/python/my python projects/New job finding platform/chromedriver\u001b[39m\u001b[38;5;124m\"\u001b[39m)\n\u001b[1;32m      3\u001b[0m driver\u001b[38;5;241m.\u001b[39mget(\u001b[38;5;124m\"\u001b[39m\u001b[38;5;124mhttp://topjobs.lk/applicant/vacancybyfunctionalarea.jsp?FA=AGD\u001b[39m\u001b[38;5;124m\"\u001b[39m)\n\u001b[0;32m----> 4\u001b[0m elements \u001b[38;5;241m=\u001b[39m \u001b[43mdriver\u001b[49m\u001b[38;5;241;43m.\u001b[39;49m\u001b[43mfind_element_by_id\u001b[49m(\u001b[38;5;124m\"\u001b[39m\u001b[38;5;124mhdnJC0\u001b[39m\u001b[38;5;124m\"\u001b[39m)\n\u001b[1;32m      5\u001b[0m \u001b[38;5;28mprint\u001b[39m(elements\u001b[38;5;241m.\u001b[39mtext)\n\u001b[1;32m      6\u001b[0m driver\u001b[38;5;241m.\u001b[39mquit()\n",
      "\u001b[0;31mAttributeError\u001b[0m: 'WebDriver' object has no attribute 'find_element_by_id'"
     ]
    }
   ],
   "source": [
    "from selenium.webdriver import Chrome\n",
    "driver = Chrome(executable_path=\"/home/vishwa/Documents/my project/python/my python projects/New job finding platform/chromedriver\")\n",
    "driver.get(\"http://topjobs.lk/applicant/vacancybyfunctionalarea.jsp?FA=AGD\")\n",
    "elements = driver.find_element_by_id(\"hdnJC0\")\n",
    "print(elements.text)\n",
    "driver.quit()\n"
   ]
  },
  {
   "cell_type": "code",
   "execution_count": null,
   "id": "a1615d50",
   "metadata": {},
   "outputs": [],
   "source": []
  }
 ],
 "metadata": {
  "kernelspec": {
   "display_name": "Python 3 (ipykernel)",
   "language": "python",
   "name": "python3"
  },
  "language_info": {
   "codemirror_mode": {
    "name": "ipython",
    "version": 3
   },
   "file_extension": ".py",
   "mimetype": "text/x-python",
   "name": "python",
   "nbconvert_exporter": "python",
   "pygments_lexer": "ipython3",
   "version": "3.9.12"
  }
 },
 "nbformat": 4,
 "nbformat_minor": 5
}
